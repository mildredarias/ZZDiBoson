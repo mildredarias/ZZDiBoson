{
 "cells": [
  {
   "cell_type": "markdown",
   "id": "7a8dab00",
   "metadata": {},
   "source": [
    "## LogNormal_Chi-Square_Method"
   ]
  },
  {
   "cell_type": "code",
   "execution_count": 1,
   "id": "enabling-celtic",
   "metadata": {},
   "outputs": [],
   "source": [
    "%jsroot on"
   ]
  },
  {
   "cell_type": "code",
   "execution_count": 2,
   "id": "improving-company",
   "metadata": {},
   "outputs": [],
   "source": [
    "#include <TFile.h>\n",
    "#include <TH1.h>\n",
    "#include <TLine.h>\n",
    "#include <TPoint.h>\n",
    "#include <string>\n",
    "#include <TMath.h>\n",
    "#include <stdio.h>\n",
    "#include <stdlib.h>\n",
    "#include <cstdio>\n",
    "#include <iostream>\n",
    "#include <time.h> \n",
    "#include <math.h>"
   ]
  },
  {
   "cell_type": "code",
   "execution_count": 3,
   "id": "unauthorized-pencil",
   "metadata": {},
   "outputs": [],
   "source": [
    "TFile *dataset = new TFile(\"/eos/user/t/tester1/SWAN_projects/MILDRED/ZZDiBoson/Analysis/Output_ZZDiBosonAnalysis/data.root\");"
   ]
  },
  {
   "cell_type": "code",
   "execution_count": 4,
   "id": "unlikely-instrumentation",
   "metadata": {},
   "outputs": [],
   "source": [
    "gStyle->SetOptFit(1112);//información sobre los parámetros de ajuste impresos en el cuadro de estadísticas del histograma \n",
    "gStyle->SetOptStat(\"emnrou\");//e:número de entradas impresas(Entries),m:valor medio impreso(Mean),r:rms impreso(Std Dev),n:se imprime el nombre del histograma"
   ]
  },
  {
   "cell_type": "code",
   "execution_count": 5,
   "id": "historical-cambridge",
   "metadata": {},
   "outputs": [
    {
     "name": "stdout",
     "output_type": "stream",
     "text": [
      "TH1.Print Name  = hist_fourlepsys_m, Entries= 96, Total sum= 90\n"
     ]
    }
   ],
   "source": [
    "TH1F *m_four_lep=(TH1F*)dataset->Get(\"hist_fourlepsys_m\");\n",
    "m_four_lep->ClearUnderflowAndOverflow();\n",
    "//TH1::StatOverflows(kTRUE); \n",
    "m_four_lep->Print(); // Lectura de datos"
   ]
  },
  {
   "cell_type": "code",
   "execution_count": 6,
   "id": "coordinate-macedonia",
   "metadata": {},
   "outputs": [],
   "source": [
    "Double_t LogNormal_pdf(Double_t* x, Double_t* par)\n",
    "  {\n",
    "    //omputes the density of LogNormal distribution at point x.\n",
    " /// Variable X has lognormal distribution if Y=Ln(X) has normal distribution\n",
    "/// sigma is the shape parameter\n",
    "/// theta is the location parameter\n",
    "/// m is the scale parameter\n",
    "/// The formula was taken from \"Engineering Statistics Handbook\" on site\n",
    "/// http://www.itl.nist.gov/div898/handbook/eda/section3/eda3669.htm\n",
    "/// Implementation using ROOT::Math::lognormal_pdf\n",
    "  \n",
    "     if ((x[0]<par[1]) || (par[0]<=0) || (par[2]<=0)) {\n",
    "        //Error(\"TMath::Lognormal\", \"illegal parameter values\");\n",
    "        return 0;\n",
    "     }\n",
    "     // lognormal_pdf uses same definition of http://en.wikipedia.org/wiki/Log-normal_distribution\n",
    "     // where mu = log(m)\n",
    "  \n",
    "    return par[3]*(ROOT::Math::lognormal_pdf(x[0], TMath::Log(par[2]), par[0], par[1]));\n",
    "  \n",
    "  }"
   ]
  },
  {
   "cell_type": "code",
   "execution_count": 7,
   "id": "dimensional-worcester",
   "metadata": {},
   "outputs": [],
   "source": [
    "TF1 *fit1=new TF1(\"fit1\",\"LogNormal_pdf\",120,500,4);\n",
    " fit1->SetParameters(1,0,1,1);\n",
    " fit1->SetParNames(\"x\",\"theta\",\"sigma\",\"m\");"
   ]
  },
  {
   "cell_type": "code",
   "execution_count": 8,
   "id": "latter-screw",
   "metadata": {},
   "outputs": [
    {
     "name": "stdout",
     "output_type": "stream",
     "text": [
      " FCN=8.30751 FROM MIGRAD    STATUS=CONVERGED    1340 CALLS        1341 TOTAL\n",
      "                     EDM=6.07469e-08    STRATEGY= 1  ERROR MATRIX UNCERTAINTY   1.1 per cent\n",
      "  EXT PARAMETER                                   STEP         FIRST   \n",
      "  NO.   NAME      VALUE            ERROR          SIZE      DERIVATIVE \n",
      "   1  x            1.29061e+00   4.95405e-01   1.80818e-05  -4.28872e-04\n",
      "   2  theta        1.81874e+02   9.82308e+00  -4.64159e-04   2.46044e-05\n",
      "   3  sigma        7.29422e+01   1.91607e+01  -7.36365e-03  -9.50485e-06\n",
      "   4  m            1.75745e+03   3.18231e+02  -3.17822e-02   1.58955e-06\n"
     ]
    }
   ],
   "source": [
    "TCanvas *canvas = new TCanvas(\"c10\",\"c10\",10,10,500,500);\n",
    "m_four_lep->Fit(\"fit1\",\"\"); \n",
    "m_four_lep->Draw(\"E1\");  //representar los puntos con barras de error\n",
    "fit1->SetLineColor(kRed);\n",
    "fit1->Draw(\"same\");"
   ]
  },
  {
   "cell_type": "code",
   "execution_count": 9,
   "id": "false-edinburgh",
   "metadata": {},
   "outputs": [
    {
     "data": {
      "text/html": [
       "\n",
       "\n",
       "<div id=\"root_plot_1636136866387\"\n",
       "     style=\"width: 496px; height: 472px\">\n",
       "</div>\n",
       "<script>\n",
       "\n",
       "function display_root_plot_1636136866387(Core) {\n",
       "   let obj = Core.parse({\"_typename\":\"TCanvas\",\"fUniqueID\":0,\"fBits\":3342344,\"fLineColor\":1,\"fLineStyle\":1,\"fLineWidth\":1,\"fFillColor\":0,\"fFillStyle\":1001,\"fLeftMargin\":0.1,\"fRightMargin\":0.1,\"fBottomMargin\":0.1,\"fTopMargin\":0.1,\"fXfile\":2,\"fYfile\":2,\"fAfile\":1,\"fXstat\":0.99,\"fYstat\":0.99,\"fAstat\":2,\"fFrameFillColor\":0,\"fFrameLineColor\":1,\"fFrameFillStyle\":1001,\"fFrameLineStyle\":1,\"fFrameLineWidth\":1,\"fFrameBorderSize\":1,\"fFrameBorderMode\":0,\"fX1\":72.499996460974,\"fY1\":-2.47707924874651,\"fX2\":547.500003539026,\"fY2\":22.2937117622643,\"fXtoAbsPixelk\":-75.7052083343102,\"fXtoPixelk\":-75.7052083343102,\"fXtoPixel\":1.04421051075584,\"fYtoAbsPixelk\":424.800047186661,\"fYtoPixelk\":424.800047186661,\"fYtoPixel\":-19.0547003440541,\"fUtoAbsPixelk\":5e-5,\"fUtoPixelk\":5e-5,\"fUtoPixel\":496,\"fVtoAbsPixelk\":472.00005,\"fVtoPixelk\":472,\"fVtoPixel\":-472,\"fAbsPixeltoXk\":72.499996460974,\"fPixeltoXk\":72.499996460974,\"fPixeltoX\":0.957661304592847,\"fAbsPixeltoYk\":22.2937117622643,\"fPixeltoYk\":-2.47707924874651,\"fPixeltoY\":-0.0524804894301076,\"fXlowNDC\":0,\"fYlowNDC\":0,\"fXUpNDC\":1,\"fYUpNDC\":1,\"fWNDC\":1,\"fHNDC\":1,\"fAbsXlowNDC\":0,\"fAbsYlowNDC\":0,\"fAbsWNDC\":1,\"fAbsHNDC\":1,\"fUxmin\":120,\"fUymin\":0,\"fUxmax\":500,\"fUymax\":19.8166325135178,\"fTheta\":30,\"fPhi\":30,\"fAspectRatio\":0,\"fNumber\":0,\"fTickx\":0,\"fTicky\":0,\"fLogx\":0,\"fLogy\":0,\"fLogz\":0,\"fPadPaint\":0,\"fCrosshair\":0,\"fCrosshairPos\":0,\"fBorderSize\":2,\"fBorderMode\":0,\"fModified\":false,\"fGridx\":false,\"fGridy\":false,\"fAbsCoord\":false,\"fEditable\":true,\"fFixedAspectRatio\":false,\"fPrimitives\":{\"_typename\":\"TList\",\"name\":\"TList\",\"arr\":[{\"_typename\":\"TFrame\",\"fUniqueID\":0,\"fBits\":8,\"fLineColor\":1,\"fLineStyle\":1,\"fLineWidth\":1,\"fFillColor\":0,\"fFillStyle\":1001,\"fX1\":120,\"fY1\":0,\"fX2\":500,\"fY2\":19.8166325135178,\"fBorderSize\":1,\"fBorderMode\":0},{\"_typename\":\"TH1F\",\"fUniqueID\":0,\"fBits\":8,\"fName\":\"hist_fourlepsys_m\",\"fTitle\":\"Mass of four-lepton system\",\"fLineColor\":602,\"fLineStyle\":1,\"fLineWidth\":1,\"fFillColor\":0,\"fFillStyle\":1001,\"fMarkerColor\":1,\"fMarkerStyle\":1,\"fMarkerSize\":1,\"fNcells\":22,\"fXaxis\":{\"_typename\":\"TAxis\",\"fUniqueID\":0,\"fBits\":0,\"fName\":\"xaxis\",\"fTitle\":\" m_{4l} \",\"fNdivisions\":510,\"fAxisColor\":1,\"fLabelColor\":1,\"fLabelFont\":42,\"fLabelOffset\":0.005,\"fLabelSize\":0.035,\"fTickLength\":0.03,\"fTitleOffset\":1,\"fTitleSize\":0.035,\"fTitleColor\":1,\"fTitleFont\":42,\"fNbins\":20,\"fXmin\":120,\"fXmax\":500,\"fXbins\":[],\"fFirst\":0,\"fLast\":0,\"fBits2\":0,\"fTimeDisplay\":false,\"fTimeFormat\":\"\",\"fLabels\":null,\"fModLabs\":null},\"fYaxis\":{\"_typename\":\"TAxis\",\"fUniqueID\":0,\"fBits\":0,\"fName\":\"yaxis\",\"fTitle\":\"Events \\/ bin\",\"fNdivisions\":510,\"fAxisColor\":1,\"fLabelColor\":1,\"fLabelFont\":42,\"fLabelOffset\":0.005,\"fLabelSize\":0.035,\"fTickLength\":0.03,\"fTitleOffset\":0,\"fTitleSize\":0.035,\"fTitleColor\":1,\"fTitleFont\":42,\"fNbins\":1,\"fXmin\":0,\"fXmax\":1,\"fXbins\":[],\"fFirst\":0,\"fLast\":0,\"fBits2\":0,\"fTimeDisplay\":false,\"fTimeFormat\":\"\",\"fLabels\":null,\"fModLabs\":null},\"fZaxis\":{\"_typename\":\"TAxis\",\"fUniqueID\":0,\"fBits\":0,\"fName\":\"zaxis\",\"fTitle\":\"\",\"fNdivisions\":510,\"fAxisColor\":1,\"fLabelColor\":1,\"fLabelFont\":42,\"fLabelOffset\":0.005,\"fLabelSize\":0.035,\"fTickLength\":0.03,\"fTitleOffset\":1,\"fTitleSize\":0.035,\"fTitleColor\":1,\"fTitleFont\":42,\"fNbins\":1,\"fXmin\":0,\"fXmax\":1,\"fXbins\":[],\"fFirst\":0,\"fLast\":0,\"fBits2\":0,\"fTimeDisplay\":false,\"fTimeFormat\":\"\",\"fLabels\":null,\"fModLabs\":null},\"fBarOffset\":0,\"fBarWidth\":1000,\"fEntries\":96,\"fTsumw\":90,\"fTsumw2\":90,\"fTsumwx\":23632.4624786377,\"fTsumwx2\":6751832.650123,\"fMaximum\":-1111,\"fMinimum\":-1111,\"fNormFactor\":0,\"fContour\":[],\"fSumw2\":[],\"fOption\":\"\",\"fFunctions\":{\"_typename\":\"TList\",\"name\":\"TList\",\"arr\":[{\"_typename\":\"TF1\",\"fUniqueID\":0,\"fBits\":1024,\"fName\":\"fit1\",\"fTitle\":\"\",\"fLineColor\":2,\"fLineStyle\":1,\"fLineWidth\":2,\"fFillColor\":19,\"fFillStyle\":0,\"fMarkerColor\":1,\"fMarkerStyle\":1,\"fMarkerSize\":1,\"fXmin\":120,\"fXmax\":500,\"fNpar\":4,\"fNdim\":1,\"fNpx\":100,\"fType\":0,\"fNpfits\":18,\"fNDF\":14,\"fChisquare\":8.30750654867951,\"fMinimum\":-1111,\"fMaximum\":-1111,\"fParErrors\":[0.495405047825635,9.82307508708782,19.1607330731651,318.230608376018],\"fParMin\":[0,0,0,0],\"fParMax\":[0,0,0,0],\"fSave\":[0,0,0,0,0,0,0,0,0,0,0,0,0,0,0,0,0,7.7832900166475,14.4793316413695,16.7034117295121,17.1253771709233,16.7782943353473,16.0983841900462,15.2859769466479,14.4379027534981,13.601911993588,12.8011685594164,12.0460624019817,11.3402136053769,10.6836470730344,10.0745198787983,9.51007880788914,8.98719562274185,8.50266511708094,8.05336760012529,7.63635307111188,7.24888000919364,6.88842801413762,6.55269566371392,6.23959034744518,5.94721410040799,5.67384781710733,5.41793523013761,5.17806743314821,4.9529683597801,4.74148140802213,4.54255726709755,4.35524292727502,4.1786718106682,4.01205493989502,3.85467305310918,3.70586957317759,3.56504434239135,3.43164804002423,3.30517720703286,3.18516980946646,3.0712012792705,2.96288097788256,2.85984903420329,2.76177351413481,2.66834788391051,2.57928873392011,2.49433373370014,2.41323979225867,2.33578140098115,2.26174913906722,2.1909483238195,2.12319779018422,2.05832878576591,1.99618396913533,1.93661650065137,1.87948921624607,1.82467387570182,1.77205047789786,1.72150663633769,1.67293700900334,1.62624277723008,1.58133116886614,1.53811502148675,1.49651238187806,1.45644613840159,1.41784368319989,1.38063660151534,1.34476038566972,1.31015417149814,1.27676049524966,1.24452506916205,1.21339657409219,1.18332646773944,1.15426880713847,1.12618008422278,1.0990190733721,1.0727466899572,1.04732585898598,1.02272139303575,0.998899878729983,0.975829571083456,0.953480295099456,0.931823354056259,0.910831443968842,0.890478573755646,120,500],\"fNormalized\":false,\"fNormIntegral\":0,\"fFormula\":{\"_typename\":\"TFormula\",\"fUniqueID\":0,\"fBits\":132096,\"fName\":\"tf1lambda\",\"fTitle\":\"LogNormal_pdf\",\"fClingParameters\":[1.29060570870511,181.873507730946,72.9421967223584,1757.45310028952],\"fAllParametersSetted\":true,\"fParams\":[{\"$pair\":\"pair<TString,int,TFormulaParamOrder>\",\"first\":\"m\",\"second\":3},{\"$pair\":\"pair<TString,int,TFormulaParamOrder>\",\"first\":\"sigma\",\"second\":2},{\"$pair\":\"pair<TString,int,TFormulaParamOrder>\",\"first\":\"theta\",\"second\":1},{\"$pair\":\"pair<TString,int,TFormulaParamOrder>\",\"first\":\"x\",\"second\":0}],\"fFormula\":\"LogNormal_pdf\",\"fNdim\":1,\"fLinearParts\":[],\"fVectorized\":false},\"fParams\":null,\"fComposition\":null},{\"_typename\":\"TPaveStats\",\"fUniqueID\":0,\"fBits\":9,\"fLineColor\":1,\"fLineStyle\":1,\"fLineWidth\":1,\"fFillColor\":0,\"fFillStyle\":1001,\"fX1\":367.000007361174,\"fY1\":6.81196774949609,\"fX2\":538.000012457371,\"fY2\":20.6836104056068,\"fX1NDC\":0.620000013709068,\"fY1NDC\":0.375000014901161,\"fX2NDC\":0.980000019073486,\"fY2NDC\":0.935000002384186,\"fBorderSize\":1,\"fInit\":1,\"fShadowColor\":1,\"fCornerRadius\":0,\"fOption\":\"brNDC\",\"fName\":\"stats\",\"fTextAngle\":0,\"fTextSize\":0,\"fTextAlign\":12,\"fTextColor\":1,\"fTextFont\":42,\"fLabel\":\"\",\"fLongest\":27,\"fMargin\":0.05,\"fLines\":{\"_typename\":\"TList\",\"name\":\"TList\",\"arr\":[{\"_typename\":\"TLatex\",\"fUniqueID\":0,\"fBits\":0,\"fName\":\"\",\"fTitle\":\"hist_fourlepsys_m\",\"fTextAngle\":0,\"fTextSize\":0.04293333,\"fTextAlign\":0,\"fTextColor\":0,\"fTextFont\":0,\"fX\":0,\"fY\":0,\"fLineColor\":1,\"fLineStyle\":1,\"fLineWidth\":2,\"fLimitFactorSize\":3,\"fOriginSize\":0.0429333336651325},{\"_typename\":\"TLatex\",\"fUniqueID\":0,\"fBits\":0,\"fName\":\"\",\"fTitle\":\"Entries = 96     \",\"fTextAngle\":0,\"fTextSize\":0,\"fTextAlign\":0,\"fTextColor\":0,\"fTextFont\":0,\"fX\":0,\"fY\":0,\"fLineColor\":1,\"fLineStyle\":1,\"fLineWidth\":2,\"fLimitFactorSize\":3,\"fOriginSize\":0.04},{\"_typename\":\"TLatex\",\"fUniqueID\":0,\"fBits\":0,\"fName\":\"\",\"fTitle\":\"Mean  =  262.6\",\"fTextAngle\":0,\"fTextSize\":0,\"fTextAlign\":0,\"fTextColor\":0,\"fTextFont\":0,\"fX\":0,\"fY\":0,\"fLineColor\":1,\"fLineStyle\":1,\"fLineWidth\":2,\"fLimitFactorSize\":3,\"fOriginSize\":0.04},{\"_typename\":\"TLatex\",\"fUniqueID\":0,\"fBits\":0,\"fName\":\"\",\"fTitle\":\"Std Dev   =  77.91\",\"fTextAngle\":0,\"fTextSize\":0,\"fTextAlign\":0,\"fTextColor\":0,\"fTextFont\":0,\"fX\":0,\"fY\":0,\"fLineColor\":1,\"fLineStyle\":1,\"fLineWidth\":2,\"fLimitFactorSize\":3,\"fOriginSize\":0.04},{\"_typename\":\"TLatex\",\"fUniqueID\":0,\"fBits\":0,\"fName\":\"\",\"fTitle\":\"Underflow =      0\",\"fTextAngle\":0,\"fTextSize\":0,\"fTextAlign\":0,\"fTextColor\":0,\"fTextFont\":0,\"fX\":0,\"fY\":0,\"fLineColor\":1,\"fLineStyle\":1,\"fLineWidth\":2,\"fLimitFactorSize\":3,\"fOriginSize\":0.04},{\"_typename\":\"TLatex\",\"fUniqueID\":0,\"fBits\":0,\"fName\":\"\",\"fTitle\":\"Overflow  =      0\",\"fTextAngle\":0,\"fTextSize\":0,\"fTextAlign\":0,\"fTextColor\":0,\"fTextFont\":0,\"fX\":0,\"fY\":0,\"fLineColor\":1,\"fLineStyle\":1,\"fLineWidth\":2,\"fLimitFactorSize\":3,\"fOriginSize\":0.04},{\"_typename\":\"TLatex\",\"fUniqueID\":0,\"fBits\":0,\"fName\":\"\",\"fTitle\":\"#chi^{2} \\/ ndf = 8.308 \\/ 14\",\"fTextAngle\":0,\"fTextSize\":0,\"fTextAlign\":0,\"fTextColor\":0,\"fTextFont\":0,\"fX\":0,\"fY\":0,\"fLineColor\":1,\"fLineStyle\":1,\"fLineWidth\":2,\"fLimitFactorSize\":3,\"fOriginSize\":0.04},{\"_typename\":\"TLatex\",\"fUniqueID\":0,\"fBits\":0,\"fName\":\"\",\"fTitle\":\"Prob  = 0.8727\",\"fTextAngle\":0,\"fTextSize\":0,\"fTextAlign\":0,\"fTextColor\":0,\"fTextFont\":0,\"fX\":0,\"fY\":0,\"fLineColor\":1,\"fLineStyle\":1,\"fLineWidth\":2,\"fLimitFactorSize\":3,\"fOriginSize\":0.04},{\"_typename\":\"TLatex\",\"fUniqueID\":0,\"fBits\":0,\"fName\":\"\",\"fTitle\":\"x        = 1.291 #pm 0.495 \",\"fTextAngle\":0,\"fTextSize\":0,\"fTextAlign\":0,\"fTextColor\":0,\"fTextFont\":0,\"fX\":0,\"fY\":0,\"fLineColor\":1,\"fLineStyle\":1,\"fLineWidth\":2,\"fLimitFactorSize\":3,\"fOriginSize\":0.04},{\"_typename\":\"TLatex\",\"fUniqueID\":0,\"fBits\":0,\"fName\":\"\",\"fTitle\":\"theta    = 181.9 #pm 9.8 \",\"fTextAngle\":0,\"fTextSize\":0,\"fTextAlign\":0,\"fTextColor\":0,\"fTextFont\":0,\"fX\":0,\"fY\":0,\"fLineColor\":1,\"fLineStyle\":1,\"fLineWidth\":2,\"fLimitFactorSize\":3,\"fOriginSize\":0.04},{\"_typename\":\"TLatex\",\"fUniqueID\":0,\"fBits\":0,\"fName\":\"\",\"fTitle\":\"sigma    = 72.94 #pm 19.16 \",\"fTextAngle\":0,\"fTextSize\":0,\"fTextAlign\":0,\"fTextColor\":0,\"fTextFont\":0,\"fX\":0,\"fY\":0,\"fLineColor\":1,\"fLineStyle\":1,\"fLineWidth\":2,\"fLimitFactorSize\":3,\"fOriginSize\":0.04},{\"_typename\":\"TLatex\",\"fUniqueID\":0,\"fBits\":0,\"fName\":\"\",\"fTitle\":\"m        =  1757 #pm 318.2 \",\"fTextAngle\":0,\"fTextSize\":0,\"fTextAlign\":0,\"fTextColor\":0,\"fTextFont\":0,\"fX\":0,\"fY\":0,\"fLineColor\":1,\"fLineStyle\":1,\"fLineWidth\":2,\"fLimitFactorSize\":3,\"fOriginSize\":0.04}],\"opt\":[\"\",\"\",\"\",\"\",\"\",\"\",\"\",\"\",\"\",\"\",\"\",\"\"]},\"fOptFit\":1112,\"fOptStat\":111111,\"fFitFormat\":\"5.4g\",\"fStatFormat\":\"6.4g\",\"fParent\":{\"$ref\":3}}],\"opt\":[\"\",\"brNDC\"]},\"fBufferSize\":0,\"fBuffer\":[],\"fBinStatErrOpt\":0,\"fStatOverflows\":2,\"fArray\":[0,0,1,2,12,15,12,11,8,4,4,2,4,5,3,1,0,2,2,1,1,0]},{\"_typename\":\"TF1\",\"fUniqueID\":0,\"fBits\":8,\"fName\":\"fit1\",\"fTitle\":\"\",\"fLineColor\":632,\"fLineStyle\":1,\"fLineWidth\":2,\"fFillColor\":19,\"fFillStyle\":0,\"fMarkerColor\":1,\"fMarkerStyle\":1,\"fMarkerSize\":1,\"fXmin\":120,\"fXmax\":500,\"fNpar\":4,\"fNdim\":1,\"fNpx\":100,\"fType\":0,\"fNpfits\":18,\"fNDF\":14,\"fChisquare\":8.30750654867951,\"fMinimum\":-1111,\"fMaximum\":-1111,\"fParErrors\":[0.495405047825635,9.82307508708782,19.1607330731651,318.230608376018],\"fParMin\":[0,0,0,0],\"fParMax\":[0,0,0,0],\"fSave\":[],\"fNormalized\":false,\"fNormIntegral\":0,\"fFormula\":{\"_typename\":\"TFormula\",\"fUniqueID\":0,\"fBits\":132096,\"fName\":\"tf1lambda\",\"fTitle\":\"LogNormal_pdf\",\"fClingParameters\":[1.29060570870511,181.873507730946,72.9421967223584,1757.45310028952],\"fAllParametersSetted\":true,\"fParams\":[{\"$pair\":\"pair<TString,int,TFormulaParamOrder>\",\"first\":\"m\",\"second\":3},{\"$pair\":\"pair<TString,int,TFormulaParamOrder>\",\"first\":\"sigma\",\"second\":2},{\"$pair\":\"pair<TString,int,TFormulaParamOrder>\",\"first\":\"theta\",\"second\":1},{\"$pair\":\"pair<TString,int,TFormulaParamOrder>\",\"first\":\"x\",\"second\":0}],\"fFormula\":\"LogNormal_pdf\",\"fNdim\":1,\"fLinearParts\":[],\"fVectorized\":false},\"fParams\":null,\"fComposition\":null},{\"_typename\":\"TPaveText\",\"fUniqueID\":0,\"fBits\":9,\"fLineColor\":1,\"fLineStyle\":1,\"fLineWidth\":1,\"fFillColor\":0,\"fFillStyle\":0,\"fX1\":156.333667065032,\"fY1\":20.6584198297385,\"fX2\":463.666332934968,\"fY2\":22.1698579253256,\"fX1NDC\":0.176491935483871,\"fY1NDC\":0.933983055615829,\"fX2NDC\":0.823508064516129,\"fY2NDC\":0.995000004768372,\"fBorderSize\":0,\"fInit\":1,\"fShadowColor\":1,\"fCornerRadius\":0,\"fOption\":\"blNDC\",\"fName\":\"title\",\"fTextAngle\":0,\"fTextSize\":0,\"fTextAlign\":22,\"fTextColor\":1,\"fTextFont\":42,\"fLabel\":\"\",\"fLongest\":26,\"fMargin\":0.05,\"fLines\":{\"_typename\":\"TList\",\"name\":\"TList\",\"arr\":[{\"_typename\":\"TLatex\",\"fUniqueID\":0,\"fBits\":0,\"fName\":\"\",\"fTitle\":\"Mass of four-lepton system\",\"fTextAngle\":0,\"fTextSize\":0,\"fTextAlign\":0,\"fTextColor\":0,\"fTextFont\":0,\"fX\":0,\"fY\":0,\"fLineColor\":1,\"fLineStyle\":1,\"fLineWidth\":2,\"fLimitFactorSize\":3,\"fOriginSize\":0.0518644079566002}],\"opt\":[\"\"]}},{\"_typename\":\"TStyle\",\"fUniqueID\":0,\"fBits\":0,\"fName\":\"Modern\",\"fTitle\":\"Modern Style\",\"fLineColor\":1,\"fLineStyle\":1,\"fLineWidth\":1,\"fFillColor\":19,\"fFillStyle\":1001,\"fMarkerColor\":1,\"fMarkerStyle\":1,\"fMarkerSize\":1,\"fTextAngle\":0,\"fTextSize\":0.05,\"fTextAlign\":11,\"fTextColor\":1,\"fTextFont\":62,\"fXaxis\":{\"_typename\":\"TAttAxis\",\"fNdivisions\":510,\"fAxisColor\":1,\"fLabelColor\":1,\"fLabelFont\":42,\"fLabelOffset\":0.005,\"fLabelSize\":0.035,\"fTickLength\":0.03,\"fTitleOffset\":1,\"fTitleSize\":0.035,\"fTitleColor\":1,\"fTitleFont\":42},\"fYaxis\":{\"_typename\":\"TAttAxis\",\"fNdivisions\":510,\"fAxisColor\":1,\"fLabelColor\":1,\"fLabelFont\":42,\"fLabelOffset\":0.005,\"fLabelSize\":0.035,\"fTickLength\":0.03,\"fTitleOffset\":0,\"fTitleSize\":0.035,\"fTitleColor\":1,\"fTitleFont\":42},\"fZaxis\":{\"_typename\":\"TAttAxis\",\"fNdivisions\":510,\"fAxisColor\":1,\"fLabelColor\":1,\"fLabelFont\":42,\"fLabelOffset\":0.005,\"fLabelSize\":0.035,\"fTickLength\":0.03,\"fTitleOffset\":1,\"fTitleSize\":0.035,\"fTitleColor\":1,\"fTitleFont\":42},\"fBarWidth\":1,\"fBarOffset\":0,\"fColorModelPS\":0,\"fDrawBorder\":0,\"fOptLogx\":0,\"fOptLogy\":0,\"fOptLogz\":0,\"fOptDate\":0,\"fOptStat\":111111,\"fOptTitle\":1,\"fOptFile\":0,\"fOptFit\":1112,\"fShowEventStatus\":0,\"fShowEditor\":0,\"fShowToolBar\":0,\"fNumberContours\":20,\"fAttDate\":{\"_typename\":\"TAttText\",\"fTextAngle\":0,\"fTextSize\":0.025,\"fTextAlign\":11,\"fTextColor\":1,\"fTextFont\":62},\"fDateX\":0.01,\"fDateY\":0.01,\"fEndErrorSize\":2,\"fErrorX\":0.5,\"fFuncColor\":2,\"fFuncStyle\":1,\"fFuncWidth\":2,\"fGridColor\":0,\"fGridStyle\":3,\"fGridWidth\":1,\"fLegendBorderSize\":1,\"fLegendFillColor\":0,\"fLegendFont\":42,\"fLegendTextSize\":0,\"fHatchesLineWidth\":1,\"fHatchesSpacing\":1,\"fFrameFillColor\":0,\"fFrameLineColor\":1,\"fFrameFillStyle\":1001,\"fFrameLineStyle\":1,\"fFrameLineWidth\":1,\"fFrameBorderSize\":1,\"fFrameBorderMode\":0,\"fHistFillColor\":0,\"fHistLineColor\":602,\"fHistFillStyle\":1001,\"fHistLineStyle\":1,\"fHistLineWidth\":1,\"fHistMinimumZero\":false,\"fHistTopMargin\":0.05,\"fCanvasPreferGL\":false,\"fCanvasColor\":0,\"fCanvasBorderSize\":2,\"fCanvasBorderMode\":0,\"fCanvasDefH\":500,\"fCanvasDefW\":700,\"fCanvasDefX\":10,\"fCanvasDefY\":10,\"fPadColor\":0,\"fPadBorderSize\":2,\"fPadBorderMode\":0,\"fPadBottomMargin\":0.1,\"fPadTopMargin\":0.1,\"fPadLeftMargin\":0.1,\"fPadRightMargin\":0.1,\"fPadGridX\":false,\"fPadGridY\":false,\"fPadTickX\":0,\"fPadTickY\":0,\"fPaperSizeX\":20,\"fPaperSizeY\":26,\"fScreenFactor\":1,\"fStatColor\":0,\"fStatTextColor\":1,\"fStatBorderSize\":1,\"fStatFont\":42,\"fStatFontSize\":0,\"fStatStyle\":1001,\"fStatFormat\":\"6.4g\",\"fStatX\":0.98,\"fStatY\":0.935,\"fStatW\":0.2,\"fStatH\":0.16,\"fStripDecimals\":true,\"fTitleAlign\":23,\"fTitleColor\":0,\"fTitleTextColor\":1,\"fTitleBorderSize\":0,\"fTitleFont\":42,\"fTitleFontSize\":0.05,\"fTitleStyle\":0,\"fTitleX\":0.5,\"fTitleY\":0.995,\"fTitleW\":0,\"fTitleH\":0,\"fLegoInnerR\":0.5,\"fLineStyle\":[\"\",\"  \",\" 12 12\",\" 4 8\",\" 12 16 4 16\",\" 20 12 4 12\",\" 20 12 4 12 4 12 4 12\",\" 20 20\",\" 20 12 4 12 4 12\",\" 80 20\",\" 80 40 4 40\",\"  \",\"  \",\"  \",\"  \",\"  \",\"  \",\"  \",\"  \",\"  \",\"  \",\"  \",\"  \",\"  \",\"  \",\"  \",\"  \",\"  \",\"  \",\"  \"],\"fHeaderPS\":\"\",\"fTitlePS\":\"\",\"fFitFormat\":\"5.4g\",\"fPaintTextFormat\":\"g\",\"fLineScalePS\":3,\"fJoinLinePS\":0,\"fCapLinePS\":0,\"fTimeOffset\":788918400,\"fImageScaling\":1}],\"opt\":[\"\",\"E1\",\"same\",\"blNDC\",\"\"]},\"fExecs\":null,\"fName\":\"c10\",\"fTitle\":\"c10\",\"fNumPaletteColor\":0,\"fNextPaletteColor\":0,\"fDISPLAY\":\"$DISPLAY\",\"fDoubleBuffer\":0,\"fRetained\":true,\"fXsizeUser\":0,\"fYsizeUser\":0,\"fXsizeReal\":20,\"fYsizeReal\":20,\"fWindowTopX\":0,\"fWindowTopY\":0,\"fWindowWidth\":0,\"fWindowHeight\":0,\"fCw\":496,\"fCh\":472,\"fCatt\":{\"_typename\":\"TAttCanvas\",\"fXBetween\":2,\"fYBetween\":2,\"fTitleFromTop\":1.2,\"fXdate\":0.2,\"fYdate\":0.3,\"fAdate\":1},\"kMoveOpaque\":true,\"kResizeOpaque\":true,\"fHighLightColor\":2,\"fBatch\":true,\"kShowEventStatus\":false,\"kAutoExec\":true,\"kMenuBar\":true});\n",
       "   Core.settings.HandleKeys = false;\n",
       "   Core.draw(\"root_plot_1636136866387\", obj, \"\");\n",
       "}\n",
       "\n",
       "function script_load_root_plot_1636136866387(src, on_error) {\n",
       "    let script = document.createElement('script');\n",
       "    script.src = src;\n",
       "    script.onload = function() { display_root_plot_1636136866387(JSROOT); };\n",
       "    script.onerror = function() { script.remove(); on_error(); };\n",
       "    document.head.appendChild(script);\n",
       "}\n",
       "\n",
       "if (typeof requirejs !== 'undefined') {\n",
       "\n",
       "    // We are in jupyter notebooks, use require.js which should be configured already\n",
       "    requirejs.config({\n",
       "       paths: { 'JSRootCore' : [ 'scripts/JSRoot.core', 'https://root.cern/js/6.1.1/scripts/JSRoot.core.min', 'https://jsroot.gsi.de/6.1.1/scripts/JSRoot.core.min' ] }\n",
       "    })(['JSRootCore'],  function(Core) {\n",
       "       display_root_plot_1636136866387(Core);\n",
       "    });\n",
       "\n",
       "} else if (typeof JSROOT !== 'undefined') {\n",
       "\n",
       "   // JSROOT already loaded, just use it\n",
       "   display_root_plot_1636136866387(JSROOT);\n",
       "\n",
       "} else {\n",
       "\n",
       "    // We are in jupyterlab without require.js, directly loading jsroot\n",
       "    // Jupyterlab might be installed in a different base_url so we need to know it.\n",
       "    try {\n",
       "        var base_url = JSON.parse(document.getElementById('jupyter-config-data').innerHTML).baseUrl;\n",
       "    } catch(_) {\n",
       "        var base_url = '/';\n",
       "    }\n",
       "\n",
       "    // Try loading a local version of requirejs and fallback to cdn if not possible.\n",
       "    script_load_root_plot_1636136866387(base_url + 'static/scripts/JSRoot.core.js', function(){\n",
       "        console.error('Fail to load JSROOT locally, please check your jupyter_notebook_config.py file');\n",
       "        script_load_root_plot_1636136866387('https://root.cern/js/6.1.1/scripts/JSRoot.core.min.js', function(){\n",
       "            document.getElementById(\"root_plot_1636136866387\").innerHTML = \"Failed to load JSROOT\";\n",
       "        });\n",
       "    });\n",
       "}\n",
       "\n",
       "</script>\n"
      ],
      "text/plain": [
       "<IPython.core.display.HTML object>"
      ]
     },
     "metadata": {},
     "output_type": "display_data"
    }
   ],
   "source": [
    "canvas->Draw();"
   ]
  }
 ],
 "metadata": {
  "kernelspec": {
   "display_name": "ROOT C++",
   "language": "c++",
   "name": "root"
  },
  "language_info": {
   "codemirror_mode": "text/x-c++src",
   "file_extension": ".C",
   "mimetype": " text/x-c++src",
   "name": "c++"
  }
 },
 "nbformat": 4,
 "nbformat_minor": 5
}
